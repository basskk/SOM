{
 "cells": [
  {
   "cell_type": "markdown",
   "id": "7b5a6a01",
   "metadata": {},
   "source": [
    "# Обзор алгоритма"
   ]
  },
  {
   "cell_type": "markdown",
   "id": "1e759897",
   "metadata": {},
   "source": [
    "Self-organizing map (SOM) - это специальный тип нейронной сети с обучением без учителя, выполняющий задачу визуализации и кластеризации. Алгоритм по сути сжимает информацию, сохраняя при этом наиболее важные топологические и метрические взаимосвязи исходных данных.\n",
    "\n",
    "**Архитектура сети:**\\\n",
    "Сеть состоит из двух слоев: входного и выходного (карты признаков).\n",
    "Сначала выбирается количество нейронов и их координаты, а затем каждому нейрону назначается вектор весов с той же размерностью, что и входное пространство. При этом, в отличие от других типов нейронных сетей, в SOM нейроны не имеют функции активации, т.е. веса напрямую передаютя на выходной слой. Также в SOM используется конкурентное обучение для корректировки весов в нейронах, вместо метода обратного распространения ошибки.\n",
    "\n",
    "**Входные данные:**\\\n",
    "*d* — размерность признакового пространства\\\n",
    "*n* — количество элементов в наборе данных\\\n",
    "*X(n·d)* — матрица с входными данными\\\n",
    "\n",
    "**Передаваемые гиперпараметры:**\\\n",
    "*m* — количество нейронов\\\n",
    "*T* — количество эпох\\\n",
    "**$\\eta$** — скорость обучения (монотонно сходится к 0 по количеству эпох t)\\\n",
    "**$\\sigma$** — коэффициент кооперации (монотонно убывает по t)\\\n",
    "**$\\gamma$** — коэффициент затухания скорости обучения\\\n",
    "**$\\alpha$** — коэффициент  затухания кооперации\n",
    "\n",
    "\n",
    "\\\n",
    "**Алгоритм:**\n",
    "1. Инициализируются веса W\n",
    "2. Каждая эпоха состоит из следующих шагов:\\\n",
    "    • В случайном порядке перебираются элементы исходного датасета\\\n",
    "    • Для каждого выбранного элемента ищутся расстояния от него до векторов весов всех нейронов и определяется ближайший нейрон $M_{c}(t)$ - best matching unit(BMU) - в заданной метрике расстояния (например, евклидово или косинусное расстояние)\\\n",
    "    • Определяются коэффициенты близости $h_{jc}$ всех нейронов к $M_c(t)$\\\n",
    "    • Обновляются веса нейронов по формуле: $w_{j}(t + 1) = w_{j}(t) + \\eta · h_{jc} · (x(t) - w_{j}(t))$\\\n",
    "    • Обновляются скорость обучения и коэффициент кооперации по формулам: $\\eta = \\eta · \\gamma$ и $\\sigma$ = $\\sigma$ · $\\alpha$\\\n",
    "    • Вычисляется ошибка карты (например как $\\frac{1}{m}\\sum _{i=1}^{m}\\|x_{i}-w_{c}\\|$)\n",
    "    \n",
    "   \n",
    "**Вариации алгоритма**\\\n",
    "• Коэффициент соседства $h$ может задаваться разными способами. Чаще всего для этого используется гауссовская функция: $h_{jc}(t) = exp(-\\frac{\\|r_{c} - r_{j}\\|^2}{2\\sigma^2(t)})$, где $r_i$ - координаты нейрона $M_{i}$. Альтернативным вариантом является распределение Коши, при использовании которого больше нейронов будут изменяться на этапе кооперации.\\\n",
    "• Затухания $\\gamma$ и $\\alpha$ также чаще всего бывают экспоненциальными, однако можно использовать сигмоиду или гауссиану, которые увеличивают количество эпох до затухания.\\\n",
    "• Взаимное расположение нейронов можно подстраивать под данные.\\\n",
    "• SOM поддерживает обучение подвыборками\n",
    "• Можно прекращать итерации, если значения W не будут меняться на протяжении нескольких эпох или ошибка карты будет незначительной.\n",
    "\n",
    "\n",
    "\n",
    "**Существующие реализации**\\\n",
    "Наиболее популярные библиотеки с реализацией данного алгоритма: sklearn-som и som-learn. \n",
    "\n",
    "\n",
    "**Источники литературы**\\\n",
    "[1]Википедия: Самоорганизующаяся карта Кохонена\n",
    "https://ru.wikipedia.org/wiki/%D0%A1%D0%B0%D0%BC%D0%BE%D0%BE%D1%80%D0%B3%D0%B0%D0%BD%D0%B8%D0%B7%D1%83%D1%8E%D1%89%D0%B0%D1%8F%D1%81%D1%8F_%D0%BA%D0%B0%D1%80%D1%82%D0%B0_%D0%9A%D0%BE%D1%85%D0%BE%D0%BD%D0%B5%D0%BD%D0%B0\n",
    "\n",
    "[2]The self-organizing map\\\n",
    "https://ieeexplore.ieee.org/abstract/document/58325\n",
    "\n",
    "[3]Нестандартная кластеризация 4: Self-Organizing Maps, тонкости, улучшения, сравнение с t-SNE\\\n",
    "https://habr.com/ru/post/338868/\n",
    "\n",
    "[4]The Self-Organizing Maps: Background, Theories, Extensions and Applications\\\n",
    "https://www.researchgate.net/publication/227313166_The_Self-Organizing_Maps_Background_Theories_Extensions_and_Applications\n",
    "\n",
    "[5]An Introduction to Self-Organizing Maps\\\n",
    "https://www.researchgate.net/publication/263084866_An_Introduction_to_Self-Organizing_Maps\n"
   ]
  },
  {
   "cell_type": "markdown",
   "id": "a92cb6d1",
   "metadata": {},
   "source": [
    "# Agglomerative clustering"
   ]
  },
  {
   "cell_type": "code",
   "execution_count": 1,
   "id": "5837227c",
   "metadata": {},
   "outputs": [
    {
     "name": "stdout",
     "output_type": "stream",
     "text": [
      "Requirement already satisfied: sklearn in ./miniconda3/lib/python3.9/site-packages (0.0)\n",
      "Requirement already satisfied: scikit-learn in ./miniconda3/lib/python3.9/site-packages (from sklearn) (0.24.2)\n",
      "Requirement already satisfied: joblib>=0.11 in ./miniconda3/lib/python3.9/site-packages (from scikit-learn->sklearn) (1.0.1)\n",
      "Requirement already satisfied: scipy>=0.19.1 in ./miniconda3/lib/python3.9/site-packages (from scikit-learn->sklearn) (1.6.3)\n",
      "Requirement already satisfied: numpy>=1.13.3 in ./miniconda3/lib/python3.9/site-packages (from scikit-learn->sklearn) (1.20.2)\n",
      "Requirement already satisfied: threadpoolctl>=2.0.0 in ./miniconda3/lib/python3.9/site-packages (from scikit-learn->sklearn) (2.1.0)\n",
      "Requirement already satisfied: numpy>=1.13.3 in ./miniconda3/lib/python3.9/site-packages (from scikit-learn->sklearn) (1.20.2)\n",
      "Requirement already satisfied: pandas in ./miniconda3/lib/python3.9/site-packages (1.3.0)\n",
      "Requirement already satisfied: pytz>=2017.3 in ./miniconda3/lib/python3.9/site-packages (from pandas) (2021.1)\n",
      "Requirement already satisfied: python-dateutil>=2.7.3 in ./miniconda3/lib/python3.9/site-packages (from pandas) (2.8.1)\n",
      "Requirement already satisfied: numpy>=1.17.3 in ./miniconda3/lib/python3.9/site-packages (from pandas) (1.20.2)\n",
      "Requirement already satisfied: six>=1.5 in ./miniconda3/lib/python3.9/site-packages (from python-dateutil>=2.7.3->pandas) (1.15.0)\n",
      "Requirement already satisfied: sklearn_som in ./miniconda3/lib/python3.9/site-packages (1.1.0)\n",
      "Requirement already satisfied: numpy in ./miniconda3/lib/python3.9/site-packages (from sklearn_som) (1.20.2)\n",
      "Requirement already satisfied: som-learn in ./miniconda3/lib/python3.9/site-packages (0.1.1)\n",
      "Requirement already satisfied: scipy>=0.17 in ./miniconda3/lib/python3.9/site-packages (from som-learn) (1.6.3)\n",
      "Requirement already satisfied: somoclu==1.7.5 in ./miniconda3/lib/python3.9/site-packages (from som-learn) (1.7.5)\n",
      "Requirement already satisfied: scikit-learn>=0.21 in ./miniconda3/lib/python3.9/site-packages (from som-learn) (0.24.2)\n",
      "Requirement already satisfied: matplotlib>=3.0 in ./miniconda3/lib/python3.9/site-packages (from som-learn) (3.4.1)\n",
      "Requirement already satisfied: numpy>=1.1 in ./miniconda3/lib/python3.9/site-packages (from som-learn) (1.20.2)\n",
      "Requirement already satisfied: python-dateutil>=2.7 in ./miniconda3/lib/python3.9/site-packages (from matplotlib>=3.0->som-learn) (2.8.1)\n",
      "Requirement already satisfied: pyparsing>=2.2.1 in ./miniconda3/lib/python3.9/site-packages (from matplotlib>=3.0->som-learn) (2.4.7)\n",
      "Requirement already satisfied: pillow>=6.2.0 in ./miniconda3/lib/python3.9/site-packages (from matplotlib>=3.0->som-learn) (8.2.0)\n",
      "Requirement already satisfied: kiwisolver>=1.0.1 in ./miniconda3/lib/python3.9/site-packages (from matplotlib>=3.0->som-learn) (1.3.1)\n",
      "Requirement already satisfied: cycler>=0.10 in ./miniconda3/lib/python3.9/site-packages (from matplotlib>=3.0->som-learn) (0.10.0)\n",
      "Requirement already satisfied: numpy>=1.1 in ./miniconda3/lib/python3.9/site-packages (from som-learn) (1.20.2)\n",
      "Requirement already satisfied: six in ./miniconda3/lib/python3.9/site-packages (from cycler>=0.10->matplotlib>=3.0->som-learn) (1.15.0)\n",
      "Requirement already satisfied: six in ./miniconda3/lib/python3.9/site-packages (from cycler>=0.10->matplotlib>=3.0->som-learn) (1.15.0)\n",
      "Requirement already satisfied: numpy>=1.1 in ./miniconda3/lib/python3.9/site-packages (from som-learn) (1.20.2)\n",
      "Requirement already satisfied: scipy>=0.17 in ./miniconda3/lib/python3.9/site-packages (from som-learn) (1.6.3)\n",
      "Requirement already satisfied: joblib>=0.11 in ./miniconda3/lib/python3.9/site-packages (from scikit-learn>=0.21->som-learn) (1.0.1)\n",
      "Requirement already satisfied: threadpoolctl>=2.0.0 in ./miniconda3/lib/python3.9/site-packages (from scikit-learn>=0.21->som-learn) (2.1.0)\n",
      "Requirement already satisfied: numpy>=1.1 in ./miniconda3/lib/python3.9/site-packages (from som-learn) (1.20.2)\n",
      "Requirement already satisfied: numpy>=1.1 in ./miniconda3/lib/python3.9/site-packages (from som-learn) (1.20.2)\n",
      "Requirement already satisfied: matplotlib>=3.0 in ./miniconda3/lib/python3.9/site-packages (from som-learn) (3.4.1)\n",
      "Requirement already satisfied: scipy>=0.17 in ./miniconda3/lib/python3.9/site-packages (from som-learn) (1.6.3)\n"
     ]
    }
   ],
   "source": [
    "!pip install sklearn\n",
    "!pip install pandas\n",
    "!pip install sklearn_som\n",
    "!pip install -U som-learn"
   ]
  },
  {
   "cell_type": "code",
   "execution_count": 2,
   "id": "b7335c83",
   "metadata": {},
   "outputs": [],
   "source": [
    "from sklearn.cluster import AgglomerativeClustering\n",
    "from sklearn import preprocessing\n",
    "from sklearn.metrics import roc_auc_score\n",
    "from sklearn.metrics import accuracy_score\n",
    "from sklearn_som.som import SOM\n",
    "\n",
    "import somlearn\n",
    "import numpy as np\n",
    "import matplotlib.pyplot as plt\n",
    "import pandas as pd"
   ]
  },
  {
   "cell_type": "markdown",
   "id": "7d5d0e80",
   "metadata": {},
   "source": [
    "# Подготовка данных"
   ]
  },
  {
   "cell_type": "code",
   "execution_count": 3,
   "id": "e601952e",
   "metadata": {},
   "outputs": [],
   "source": [
    "df = pd.read_csv('menu.csv')"
   ]
  },
  {
   "cell_type": "code",
   "execution_count": 4,
   "id": "adef7d33",
   "metadata": {},
   "outputs": [],
   "source": [
    "df['Serving Size'] = np.vectorize(lambda x: float(x.split(' ')[0]))(df['Serving Size'])"
   ]
  },
  {
   "cell_type": "code",
   "execution_count": 5,
   "id": "3cc31698",
   "metadata": {},
   "outputs": [],
   "source": [
    "y = df['Category']\n",
    "le = preprocessing.LabelEncoder()\n",
    "le.fit(y)\n",
    "y = le.transform(y)"
   ]
  },
  {
   "cell_type": "code",
   "execution_count": 6,
   "id": "e88181d9",
   "metadata": {},
   "outputs": [
    {
     "name": "stderr",
     "output_type": "stream",
     "text": [
      "<ipython-input-6-336ef4a359b5>:1: FutureWarning: In a future version of pandas all arguments of DataFrame.drop except for the argument 'labels' will be keyword-only\n",
      "  df = df.drop('Category', 1)\n",
      "<ipython-input-6-336ef4a359b5>:2: FutureWarning: In a future version of pandas all arguments of DataFrame.drop except for the argument 'labels' will be keyword-only\n",
      "  df = df.drop('Item', 1)\n"
     ]
    }
   ],
   "source": [
    "df = df.drop('Category', 1)\n",
    "df = df.drop('Item', 1)"
   ]
  },
  {
   "cell_type": "code",
   "execution_count": 7,
   "id": "59a82048",
   "metadata": {},
   "outputs": [
    {
     "data": {
      "text/html": [
       "<div>\n",
       "<style scoped>\n",
       "    .dataframe tbody tr th:only-of-type {\n",
       "        vertical-align: middle;\n",
       "    }\n",
       "\n",
       "    .dataframe tbody tr th {\n",
       "        vertical-align: top;\n",
       "    }\n",
       "\n",
       "    .dataframe thead th {\n",
       "        text-align: right;\n",
       "    }\n",
       "</style>\n",
       "<table border=\"1\" class=\"dataframe\">\n",
       "  <thead>\n",
       "    <tr style=\"text-align: right;\">\n",
       "      <th></th>\n",
       "      <th>Serving Size</th>\n",
       "      <th>Calories</th>\n",
       "      <th>Calories from Fat</th>\n",
       "      <th>Total Fat</th>\n",
       "      <th>Total Fat (% Daily Value)</th>\n",
       "      <th>Saturated Fat</th>\n",
       "      <th>Saturated Fat (% Daily Value)</th>\n",
       "      <th>Trans Fat</th>\n",
       "      <th>Cholesterol</th>\n",
       "      <th>Cholesterol (% Daily Value)</th>\n",
       "      <th>...</th>\n",
       "      <th>Carbohydrates</th>\n",
       "      <th>Carbohydrates (% Daily Value)</th>\n",
       "      <th>Dietary Fiber</th>\n",
       "      <th>Dietary Fiber (% Daily Value)</th>\n",
       "      <th>Sugars</th>\n",
       "      <th>Protein</th>\n",
       "      <th>Vitamin A (% Daily Value)</th>\n",
       "      <th>Vitamin C (% Daily Value)</th>\n",
       "      <th>Calcium (% Daily Value)</th>\n",
       "      <th>Iron (% Daily Value)</th>\n",
       "    </tr>\n",
       "  </thead>\n",
       "  <tbody>\n",
       "    <tr>\n",
       "      <th>0</th>\n",
       "      <td>4.8</td>\n",
       "      <td>300</td>\n",
       "      <td>120</td>\n",
       "      <td>13.0</td>\n",
       "      <td>20</td>\n",
       "      <td>5.0</td>\n",
       "      <td>25</td>\n",
       "      <td>0.0</td>\n",
       "      <td>260</td>\n",
       "      <td>87</td>\n",
       "      <td>...</td>\n",
       "      <td>31</td>\n",
       "      <td>10</td>\n",
       "      <td>4</td>\n",
       "      <td>17</td>\n",
       "      <td>3</td>\n",
       "      <td>17</td>\n",
       "      <td>10</td>\n",
       "      <td>0</td>\n",
       "      <td>25</td>\n",
       "      <td>15</td>\n",
       "    </tr>\n",
       "    <tr>\n",
       "      <th>1</th>\n",
       "      <td>4.8</td>\n",
       "      <td>250</td>\n",
       "      <td>70</td>\n",
       "      <td>8.0</td>\n",
       "      <td>12</td>\n",
       "      <td>3.0</td>\n",
       "      <td>15</td>\n",
       "      <td>0.0</td>\n",
       "      <td>25</td>\n",
       "      <td>8</td>\n",
       "      <td>...</td>\n",
       "      <td>30</td>\n",
       "      <td>10</td>\n",
       "      <td>4</td>\n",
       "      <td>17</td>\n",
       "      <td>3</td>\n",
       "      <td>18</td>\n",
       "      <td>6</td>\n",
       "      <td>0</td>\n",
       "      <td>25</td>\n",
       "      <td>8</td>\n",
       "    </tr>\n",
       "    <tr>\n",
       "      <th>2</th>\n",
       "      <td>3.9</td>\n",
       "      <td>370</td>\n",
       "      <td>200</td>\n",
       "      <td>23.0</td>\n",
       "      <td>35</td>\n",
       "      <td>8.0</td>\n",
       "      <td>42</td>\n",
       "      <td>0.0</td>\n",
       "      <td>45</td>\n",
       "      <td>15</td>\n",
       "      <td>...</td>\n",
       "      <td>29</td>\n",
       "      <td>10</td>\n",
       "      <td>4</td>\n",
       "      <td>17</td>\n",
       "      <td>2</td>\n",
       "      <td>14</td>\n",
       "      <td>8</td>\n",
       "      <td>0</td>\n",
       "      <td>25</td>\n",
       "      <td>10</td>\n",
       "    </tr>\n",
       "    <tr>\n",
       "      <th>3</th>\n",
       "      <td>5.7</td>\n",
       "      <td>450</td>\n",
       "      <td>250</td>\n",
       "      <td>28.0</td>\n",
       "      <td>43</td>\n",
       "      <td>10.0</td>\n",
       "      <td>52</td>\n",
       "      <td>0.0</td>\n",
       "      <td>285</td>\n",
       "      <td>95</td>\n",
       "      <td>...</td>\n",
       "      <td>30</td>\n",
       "      <td>10</td>\n",
       "      <td>4</td>\n",
       "      <td>17</td>\n",
       "      <td>2</td>\n",
       "      <td>21</td>\n",
       "      <td>15</td>\n",
       "      <td>0</td>\n",
       "      <td>30</td>\n",
       "      <td>15</td>\n",
       "    </tr>\n",
       "    <tr>\n",
       "      <th>4</th>\n",
       "      <td>5.7</td>\n",
       "      <td>400</td>\n",
       "      <td>210</td>\n",
       "      <td>23.0</td>\n",
       "      <td>35</td>\n",
       "      <td>8.0</td>\n",
       "      <td>42</td>\n",
       "      <td>0.0</td>\n",
       "      <td>50</td>\n",
       "      <td>16</td>\n",
       "      <td>...</td>\n",
       "      <td>30</td>\n",
       "      <td>10</td>\n",
       "      <td>4</td>\n",
       "      <td>17</td>\n",
       "      <td>2</td>\n",
       "      <td>21</td>\n",
       "      <td>6</td>\n",
       "      <td>0</td>\n",
       "      <td>25</td>\n",
       "      <td>10</td>\n",
       "    </tr>\n",
       "    <tr>\n",
       "      <th>...</th>\n",
       "      <td>...</td>\n",
       "      <td>...</td>\n",
       "      <td>...</td>\n",
       "      <td>...</td>\n",
       "      <td>...</td>\n",
       "      <td>...</td>\n",
       "      <td>...</td>\n",
       "      <td>...</td>\n",
       "      <td>...</td>\n",
       "      <td>...</td>\n",
       "      <td>...</td>\n",
       "      <td>...</td>\n",
       "      <td>...</td>\n",
       "      <td>...</td>\n",
       "      <td>...</td>\n",
       "      <td>...</td>\n",
       "      <td>...</td>\n",
       "      <td>...</td>\n",
       "      <td>...</td>\n",
       "      <td>...</td>\n",
       "      <td>...</td>\n",
       "    </tr>\n",
       "    <tr>\n",
       "      <th>255</th>\n",
       "      <td>10.1</td>\n",
       "      <td>510</td>\n",
       "      <td>150</td>\n",
       "      <td>17.0</td>\n",
       "      <td>26</td>\n",
       "      <td>9.0</td>\n",
       "      <td>44</td>\n",
       "      <td>0.5</td>\n",
       "      <td>45</td>\n",
       "      <td>14</td>\n",
       "      <td>...</td>\n",
       "      <td>80</td>\n",
       "      <td>27</td>\n",
       "      <td>1</td>\n",
       "      <td>4</td>\n",
       "      <td>64</td>\n",
       "      <td>12</td>\n",
       "      <td>15</td>\n",
       "      <td>0</td>\n",
       "      <td>40</td>\n",
       "      <td>8</td>\n",
       "    </tr>\n",
       "    <tr>\n",
       "      <th>256</th>\n",
       "      <td>13.4</td>\n",
       "      <td>690</td>\n",
       "      <td>200</td>\n",
       "      <td>23.0</td>\n",
       "      <td>35</td>\n",
       "      <td>12.0</td>\n",
       "      <td>58</td>\n",
       "      <td>1.0</td>\n",
       "      <td>55</td>\n",
       "      <td>19</td>\n",
       "      <td>...</td>\n",
       "      <td>106</td>\n",
       "      <td>35</td>\n",
       "      <td>1</td>\n",
       "      <td>5</td>\n",
       "      <td>85</td>\n",
       "      <td>15</td>\n",
       "      <td>20</td>\n",
       "      <td>0</td>\n",
       "      <td>50</td>\n",
       "      <td>10</td>\n",
       "    </tr>\n",
       "    <tr>\n",
       "      <th>257</th>\n",
       "      <td>6.7</td>\n",
       "      <td>340</td>\n",
       "      <td>100</td>\n",
       "      <td>11.0</td>\n",
       "      <td>17</td>\n",
       "      <td>6.0</td>\n",
       "      <td>29</td>\n",
       "      <td>0.0</td>\n",
       "      <td>30</td>\n",
       "      <td>9</td>\n",
       "      <td>...</td>\n",
       "      <td>53</td>\n",
       "      <td>18</td>\n",
       "      <td>1</td>\n",
       "      <td>2</td>\n",
       "      <td>43</td>\n",
       "      <td>8</td>\n",
       "      <td>10</td>\n",
       "      <td>0</td>\n",
       "      <td>25</td>\n",
       "      <td>6</td>\n",
       "    </tr>\n",
       "    <tr>\n",
       "      <th>258</th>\n",
       "      <td>14.2</td>\n",
       "      <td>810</td>\n",
       "      <td>290</td>\n",
       "      <td>32.0</td>\n",
       "      <td>50</td>\n",
       "      <td>15.0</td>\n",
       "      <td>76</td>\n",
       "      <td>1.0</td>\n",
       "      <td>60</td>\n",
       "      <td>20</td>\n",
       "      <td>...</td>\n",
       "      <td>114</td>\n",
       "      <td>38</td>\n",
       "      <td>2</td>\n",
       "      <td>9</td>\n",
       "      <td>103</td>\n",
       "      <td>21</td>\n",
       "      <td>20</td>\n",
       "      <td>0</td>\n",
       "      <td>60</td>\n",
       "      <td>6</td>\n",
       "    </tr>\n",
       "    <tr>\n",
       "      <th>259</th>\n",
       "      <td>7.1</td>\n",
       "      <td>410</td>\n",
       "      <td>150</td>\n",
       "      <td>16.0</td>\n",
       "      <td>25</td>\n",
       "      <td>8.0</td>\n",
       "      <td>38</td>\n",
       "      <td>0.0</td>\n",
       "      <td>30</td>\n",
       "      <td>10</td>\n",
       "      <td>...</td>\n",
       "      <td>57</td>\n",
       "      <td>19</td>\n",
       "      <td>1</td>\n",
       "      <td>5</td>\n",
       "      <td>51</td>\n",
       "      <td>10</td>\n",
       "      <td>10</td>\n",
       "      <td>0</td>\n",
       "      <td>30</td>\n",
       "      <td>4</td>\n",
       "    </tr>\n",
       "  </tbody>\n",
       "</table>\n",
       "<p>260 rows × 22 columns</p>\n",
       "</div>"
      ],
      "text/plain": [
       "     Serving Size  Calories  Calories from Fat  Total Fat  \\\n",
       "0             4.8       300                120       13.0   \n",
       "1             4.8       250                 70        8.0   \n",
       "2             3.9       370                200       23.0   \n",
       "3             5.7       450                250       28.0   \n",
       "4             5.7       400                210       23.0   \n",
       "..            ...       ...                ...        ...   \n",
       "255          10.1       510                150       17.0   \n",
       "256          13.4       690                200       23.0   \n",
       "257           6.7       340                100       11.0   \n",
       "258          14.2       810                290       32.0   \n",
       "259           7.1       410                150       16.0   \n",
       "\n",
       "     Total Fat (% Daily Value)  Saturated Fat  Saturated Fat (% Daily Value)  \\\n",
       "0                           20            5.0                             25   \n",
       "1                           12            3.0                             15   \n",
       "2                           35            8.0                             42   \n",
       "3                           43           10.0                             52   \n",
       "4                           35            8.0                             42   \n",
       "..                         ...            ...                            ...   \n",
       "255                         26            9.0                             44   \n",
       "256                         35           12.0                             58   \n",
       "257                         17            6.0                             29   \n",
       "258                         50           15.0                             76   \n",
       "259                         25            8.0                             38   \n",
       "\n",
       "     Trans Fat  Cholesterol  Cholesterol (% Daily Value)  ...  Carbohydrates  \\\n",
       "0          0.0          260                           87  ...             31   \n",
       "1          0.0           25                            8  ...             30   \n",
       "2          0.0           45                           15  ...             29   \n",
       "3          0.0          285                           95  ...             30   \n",
       "4          0.0           50                           16  ...             30   \n",
       "..         ...          ...                          ...  ...            ...   \n",
       "255        0.5           45                           14  ...             80   \n",
       "256        1.0           55                           19  ...            106   \n",
       "257        0.0           30                            9  ...             53   \n",
       "258        1.0           60                           20  ...            114   \n",
       "259        0.0           30                           10  ...             57   \n",
       "\n",
       "     Carbohydrates (% Daily Value)  Dietary Fiber  \\\n",
       "0                               10              4   \n",
       "1                               10              4   \n",
       "2                               10              4   \n",
       "3                               10              4   \n",
       "4                               10              4   \n",
       "..                             ...            ...   \n",
       "255                             27              1   \n",
       "256                             35              1   \n",
       "257                             18              1   \n",
       "258                             38              2   \n",
       "259                             19              1   \n",
       "\n",
       "     Dietary Fiber (% Daily Value)  Sugars  Protein  \\\n",
       "0                               17       3       17   \n",
       "1                               17       3       18   \n",
       "2                               17       2       14   \n",
       "3                               17       2       21   \n",
       "4                               17       2       21   \n",
       "..                             ...     ...      ...   \n",
       "255                              4      64       12   \n",
       "256                              5      85       15   \n",
       "257                              2      43        8   \n",
       "258                              9     103       21   \n",
       "259                              5      51       10   \n",
       "\n",
       "     Vitamin A (% Daily Value)  Vitamin C (% Daily Value)  \\\n",
       "0                           10                          0   \n",
       "1                            6                          0   \n",
       "2                            8                          0   \n",
       "3                           15                          0   \n",
       "4                            6                          0   \n",
       "..                         ...                        ...   \n",
       "255                         15                          0   \n",
       "256                         20                          0   \n",
       "257                         10                          0   \n",
       "258                         20                          0   \n",
       "259                         10                          0   \n",
       "\n",
       "     Calcium (% Daily Value)  Iron (% Daily Value)  \n",
       "0                         25                    15  \n",
       "1                         25                     8  \n",
       "2                         25                    10  \n",
       "3                         30                    15  \n",
       "4                         25                    10  \n",
       "..                       ...                   ...  \n",
       "255                       40                     8  \n",
       "256                       50                    10  \n",
       "257                       25                     6  \n",
       "258                       60                     6  \n",
       "259                       30                     4  \n",
       "\n",
       "[260 rows x 22 columns]"
      ]
     },
     "execution_count": 7,
     "metadata": {},
     "output_type": "execute_result"
    }
   ],
   "source": [
    "df"
   ]
  },
  {
   "cell_type": "code",
   "execution_count": 8,
   "id": "f111386a",
   "metadata": {},
   "outputs": [],
   "source": [
    "num_of_clusters = pd.Series(y).unique().size"
   ]
  },
  {
   "cell_type": "code",
   "execution_count": 9,
   "id": "9b3d48cf",
   "metadata": {},
   "outputs": [],
   "source": [
    "pairs_y = np.zeros(y.size * (y.size - 1) // 2) \n",
    "n = 0\n",
    "\n",
    "for i in range(y.size):\n",
    "    for j in range(i + 1, y.size):\n",
    "        pairs_y[n] = (y[i] == y[j])\n",
    "        n += 1"
   ]
  },
  {
   "cell_type": "markdown",
   "id": "5dbef2a6",
   "metadata": {},
   "source": [
    "# Agglomerative Clustering"
   ]
  },
  {
   "cell_type": "code",
   "execution_count": 10,
   "id": "8c4341eb",
   "metadata": {},
   "outputs": [],
   "source": [
    "clustering = AgglomerativeClustering(num_of_clusters).fit(df)\n",
    "pred = clustering.labels_"
   ]
  },
  {
   "cell_type": "code",
   "execution_count": 11,
   "id": "2c031b85",
   "metadata": {},
   "outputs": [],
   "source": [
    "pairs_pred = np.zeros(y.size * (y.size - 1) // 2) \n",
    "n = 0\n",
    "\n",
    "for i in range(y.size):\n",
    "    for j in range(i + 1, y.size):\n",
    "        pairs_pred[n] = (pred[i] == pred[j])\n",
    "        n += 1"
   ]
  },
  {
   "cell_type": "code",
   "execution_count": 12,
   "id": "a99fff8c",
   "metadata": {},
   "outputs": [
    {
     "data": {
      "text/plain": [
       "0.616002078994827"
      ]
     },
     "execution_count": 12,
     "metadata": {},
     "output_type": "execute_result"
    }
   ],
   "source": [
    "roc_auc_score(pairs_y, pairs_pred) "
   ]
  },
  {
   "cell_type": "code",
   "execution_count": 13,
   "id": "595371cb",
   "metadata": {},
   "outputs": [
    {
     "data": {
      "text/plain": [
       "0.7586278586278586"
      ]
     },
     "execution_count": 13,
     "metadata": {},
     "output_type": "execute_result"
    }
   ],
   "source": [
    "accuracy_score(pairs_y, pairs_pred)"
   ]
  },
  {
   "cell_type": "markdown",
   "id": "14fbaaf3",
   "metadata": {},
   "source": [
    "# sklearn_som"
   ]
  },
  {
   "cell_type": "code",
   "execution_count": 14,
   "id": "7c922962",
   "metadata": {},
   "outputs": [],
   "source": [
    "som = SOM(m=3, n=3, dim=22)\n",
    "som.fit(np.array(df))\n",
    "pred = som.predict(np.array(df))"
   ]
  },
  {
   "cell_type": "code",
   "execution_count": 15,
   "id": "6b74abc1",
   "metadata": {},
   "outputs": [],
   "source": [
    "pairs_pred = np.zeros(y.size * (y.size - 1) // 2) \n",
    "n = 0\n",
    "\n",
    "for i in range(y.size):\n",
    "    for j in range(i + 1, y.size):\n",
    "        pairs_pred[n] = (pred[i] == pred[j])\n",
    "        n += 1"
   ]
  },
  {
   "cell_type": "code",
   "execution_count": 16,
   "id": "10adec3f",
   "metadata": {},
   "outputs": [
    {
     "data": {
      "text/plain": [
       "0.6035715317238566"
      ]
     },
     "execution_count": 16,
     "metadata": {},
     "output_type": "execute_result"
    }
   ],
   "source": [
    "roc_auc_score(pairs_y, pairs_pred) "
   ]
  },
  {
   "cell_type": "code",
   "execution_count": 17,
   "id": "2d972d4b",
   "metadata": {},
   "outputs": [
    {
     "data": {
      "text/plain": [
       "0.7713394713394713"
      ]
     },
     "execution_count": 17,
     "metadata": {},
     "output_type": "execute_result"
    }
   ],
   "source": [
    "accuracy_score(pairs_y, pairs_pred)"
   ]
  },
  {
   "cell_type": "markdown",
   "id": "cee8a6e6",
   "metadata": {},
   "source": [
    "# som-learn"
   ]
  },
  {
   "cell_type": "code",
   "execution_count": 18,
   "id": "72e8e157",
   "metadata": {},
   "outputs": [],
   "source": [
    "som = somlearn.SOM(n_columns=3, n_rows=3)\n",
    "pred = som.fit_predict(np.array(df))"
   ]
  },
  {
   "cell_type": "code",
   "execution_count": 19,
   "id": "b7b5036e",
   "metadata": {},
   "outputs": [],
   "source": [
    "pairs_pred = np.zeros(y.size * (y.size - 1) // 2) \n",
    "n = 0\n",
    "\n",
    "for i in range(y.size):\n",
    "    for j in range(i + 1, y.size):\n",
    "        pairs_pred[n] = (pred[i] == pred[j])\n",
    "        n += 1"
   ]
  },
  {
   "cell_type": "code",
   "execution_count": 20,
   "id": "69310256",
   "metadata": {},
   "outputs": [
    {
     "data": {
      "text/plain": [
       "0.6058325851044905"
      ]
     },
     "execution_count": 20,
     "metadata": {},
     "output_type": "execute_result"
    }
   ],
   "source": [
    "roc_auc_score(pairs_y, pairs_pred) "
   ]
  },
  {
   "cell_type": "code",
   "execution_count": 21,
   "id": "e78d5f2f",
   "metadata": {},
   "outputs": [
    {
     "data": {
      "text/plain": [
       "0.7935550935550936"
      ]
     },
     "execution_count": 21,
     "metadata": {},
     "output_type": "execute_result"
    }
   ],
   "source": [
    "accuracy_score(pairs_y, pairs_pred)"
   ]
  }
 ],
 "metadata": {
  "kernelspec": {
   "display_name": "Python 3",
   "language": "python",
   "name": "python3"
  },
  "language_info": {
   "codemirror_mode": {
    "name": "ipython",
    "version": 3
   },
   "file_extension": ".py",
   "mimetype": "text/x-python",
   "name": "python",
   "nbconvert_exporter": "python",
   "pygments_lexer": "ipython3",
   "version": "3.9.1"
  }
 },
 "nbformat": 4,
 "nbformat_minor": 5
}
